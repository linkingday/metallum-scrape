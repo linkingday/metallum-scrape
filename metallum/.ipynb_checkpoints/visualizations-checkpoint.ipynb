{
 "cells": [
  {
   "cell_type": "code",
   "execution_count": 5,
   "metadata": {
    "collapsed": true
   },
   "outputs": [],
   "source": [
    "import numpy as np\n",
    "import pandas as pd\n",
    "import re\n",
    "import plotly \n",
    "import plotly.plotly as py\n",
    "import cufflinks as cf\n",
    "\n",
    "cf.set_config_file(offline=False, world_readable=True, theme='pearl')\n",
    "\n",
    "df = pd.read_csv('metal.csv')\n",
    "df.replace(\"[{'name': None, 'year': None}]\", '')\n",
    "df.album_ls = list(map(lambda x: eval(x), df.album_ls))\n",
    "df.demo_ls = list(map(lambda x: eval(x), df.demo_ls))\n",
    "df.lyr_themes = df.lyr_themes.fillna('')\n",
    "df.genre = df.genre.apply(lambda x: re.findall(r\"[\\w']+\", x))\n",
    "df.lyr_themes = df.lyr_themes.apply(lambda x: re.findall(r\"[\\w']+\", x))\n",
    "#df.formed = list(map(lambda x: int(x), df.formed))"
   ]
  },
  {
   "cell_type": "code",
   "execution_count": 3,
   "metadata": {
    "collapsed": true
   },
   "outputs": [],
   "source": [
    "def filterlis(co = None, na = None, ge = None, ly = None):\n",
    "    fd = df\n",
    "    if co:\n",
    "        fd = fd[(fd.country.apply(lambda x: co in x))]\n",
    "    if na:\n",
    "        fd = fd[(fd.name.apply(lambda x: na in x))]\n",
    "    if ge:\n",
    "        fd = fd[(fd.genre.apply(lambda x: ge in x))]\n",
    "    if ly:\n",
    "        fd = fd[(fd.lyr_themes.apply(lambda x: ly in x))]\n",
    "    return fd"
   ]
  },
  {
   "cell_type": "code",
   "execution_count": 7,
   "metadata": {},
   "outputs": [
    {
     "data": {
      "text/html": [
       "<iframe id=\"igraph\" scrolling=\"no\" style=\"border:none;\" seamless=\"seamless\" src=\"https://plot.ly/~linkingday/96.embed\" height=\"525px\" width=\"100%\"></iframe>"
      ],
      "text/plain": [
       "<plotly.tools.PlotlyDisplay object>"
      ]
     },
     "execution_count": 7,
     "metadata": {},
     "output_type": "execute_result"
    }
   ],
   "source": [
    "filtered = filterlis(ge = \"Black\").set_index(\"country\")['demo_ls'].apply(pd.Series).stack().reset_index()\\\n",
    "                                              .rename(columns = {0: \"albums\"}).drop(\"level_1\", axis=1)\n",
    "\n",
    "filtered = filtered.assign(alb_y = [item.get('year') for item in filtered.albums], \n",
    "                     alb_n = [item.get('name') for item in filtered.albums]).drop(\"albums\", axis=1).dropna()\n",
    "\n",
    "top15 = list(filtered.groupby(\"country\").count().sort_values('alb_n', ascending=False).head(15).index)\n",
    "\n",
    "fdf = filtered.groupby(['country', 'alb_y']).count().unstack(level=0).fillna(0).reset_index().set_index('alb_y')\n",
    "fdf.columns = fdf.columns.droplevel(0)\n",
    "\n",
    "fdf[top15].iplot(kind = \"bar\", barmode = \"stack\", xTitle = \"Year\", yTitle = \"Number of Demo Releases\",\n",
    "                         title = \"Demo Releases by Black Metal Bands\")\n",
    "\n"
   ]
  },
  {
   "cell_type": "code",
   "execution_count": null,
   "metadata": {
    "collapsed": true
   },
   "outputs": [],
   "source": []
  }
 ],
 "metadata": {
  "kernelspec": {
   "display_name": "Python 3",
   "language": "python",
   "name": "python3"
  },
  "language_info": {
   "codemirror_mode": {
    "name": "ipython",
    "version": 3
   },
   "file_extension": ".py",
   "mimetype": "text/x-python",
   "name": "python",
   "nbconvert_exporter": "python",
   "pygments_lexer": "ipython3",
   "version": "3.6.0"
  }
 },
 "nbformat": 4,
 "nbformat_minor": 2
}
